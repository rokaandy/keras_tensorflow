{
 "cells": [
  {
   "cell_type": "markdown",
   "metadata": {},
   "source": [
    "# Neural Networks with keras and tensorflow\n",
    "\n",
    "N.B. You will need to pip install keras and tensorflow!"
   ]
  },
  {
   "cell_type": "code",
   "execution_count": 1,
   "metadata": {},
   "outputs": [],
   "source": [
    "from sklearn.datasets import load_breast_cancer\n",
    "from matplotlib import pyplot as plt\n",
    "import numpy as np\n",
    "from sklearn.model_selection import train_test_split\n",
    "from sklearn import metrics\n",
    "from sklearn.preprocessing import StandardScaler"
   ]
  },
  {
   "cell_type": "markdown",
   "metadata": {},
   "source": [
    "For this lesson we'll use sklearn's built-in breast cancer dataset. The next cell loads the data and prints the data description."
   ]
  },
  {
   "cell_type": "code",
   "execution_count": 2,
   "metadata": {},
   "outputs": [
    {
     "name": "stdout",
     "output_type": "stream",
     "text": [
      ".. _breast_cancer_dataset:\n",
      "\n",
      "Breast cancer wisconsin (diagnostic) dataset\n",
      "--------------------------------------------\n",
      "\n",
      "**Data Set Characteristics:**\n",
      "\n",
      "    :Number of Instances: 569\n",
      "\n",
      "    :Number of Attributes: 30 numeric, predictive attributes and the class\n",
      "\n",
      "    :Attribute Information:\n",
      "        - radius (mean of distances from center to points on the perimeter)\n",
      "        - texture (standard deviation of gray-scale values)\n",
      "        - perimeter\n",
      "        - area\n",
      "        - smoothness (local variation in radius lengths)\n",
      "        - compactness (perimeter^2 / area - 1.0)\n",
      "        - concavity (severity of concave portions of the contour)\n",
      "        - concave points (number of concave portions of the contour)\n",
      "        - symmetry \n",
      "        - fractal dimension (\"coastline approximation\" - 1)\n",
      "\n",
      "        The mean, standard error, and \"worst\" or largest (mean of the three\n",
      "        largest values) of these features were computed for each image,\n",
      "        resulting in 30 features.  For instance, field 3 is Mean Radius, field\n",
      "        13 is Radius SE, field 23 is Worst Radius.\n",
      "\n",
      "        - class:\n",
      "                - WDBC-Malignant\n",
      "                - WDBC-Benign\n",
      "\n",
      "    :Summary Statistics:\n",
      "\n",
      "    ===================================== ====== ======\n",
      "                                           Min    Max\n",
      "    ===================================== ====== ======\n",
      "    radius (mean):                        6.981  28.11\n",
      "    texture (mean):                       9.71   39.28\n",
      "    perimeter (mean):                     43.79  188.5\n",
      "    area (mean):                          143.5  2501.0\n",
      "    smoothness (mean):                    0.053  0.163\n",
      "    compactness (mean):                   0.019  0.345\n",
      "    concavity (mean):                     0.0    0.427\n",
      "    concave points (mean):                0.0    0.201\n",
      "    symmetry (mean):                      0.106  0.304\n",
      "    fractal dimension (mean):             0.05   0.097\n",
      "    radius (standard error):              0.112  2.873\n",
      "    texture (standard error):             0.36   4.885\n",
      "    perimeter (standard error):           0.757  21.98\n",
      "    area (standard error):                6.802  542.2\n",
      "    smoothness (standard error):          0.002  0.031\n",
      "    compactness (standard error):         0.002  0.135\n",
      "    concavity (standard error):           0.0    0.396\n",
      "    concave points (standard error):      0.0    0.053\n",
      "    symmetry (standard error):            0.008  0.079\n",
      "    fractal dimension (standard error):   0.001  0.03\n",
      "    radius (worst):                       7.93   36.04\n",
      "    texture (worst):                      12.02  49.54\n",
      "    perimeter (worst):                    50.41  251.2\n",
      "    area (worst):                         185.2  4254.0\n",
      "    smoothness (worst):                   0.071  0.223\n",
      "    compactness (worst):                  0.027  1.058\n",
      "    concavity (worst):                    0.0    1.252\n",
      "    concave points (worst):               0.0    0.291\n",
      "    symmetry (worst):                     0.156  0.664\n",
      "    fractal dimension (worst):            0.055  0.208\n",
      "    ===================================== ====== ======\n",
      "\n",
      "    :Missing Attribute Values: None\n",
      "\n",
      "    :Class Distribution: 212 - Malignant, 357 - Benign\n",
      "\n",
      "    :Creator:  Dr. William H. Wolberg, W. Nick Street, Olvi L. Mangasarian\n",
      "\n",
      "    :Donor: Nick Street\n",
      "\n",
      "    :Date: November, 1995\n",
      "\n",
      "This is a copy of UCI ML Breast Cancer Wisconsin (Diagnostic) datasets.\n",
      "https://goo.gl/U2Uwz2\n",
      "\n",
      "Features are computed from a digitized image of a fine needle\n",
      "aspirate (FNA) of a breast mass.  They describe\n",
      "characteristics of the cell nuclei present in the image.\n",
      "\n",
      "Separating plane described above was obtained using\n",
      "Multisurface Method-Tree (MSM-T) [K. P. Bennett, \"Decision Tree\n",
      "Construction Via Linear Programming.\" Proceedings of the 4th\n",
      "Midwest Artificial Intelligence and Cognitive Science Society,\n",
      "pp. 97-101, 1992], a classification method which uses linear\n",
      "programming to construct a decision tree.  Relevant features\n",
      "were selected using an exhaustive search in the space of 1-4\n",
      "features and 1-3 separating planes.\n",
      "\n",
      "The actual linear program used to obtain the separating plane\n",
      "in the 3-dimensional space is that described in:\n",
      "[K. P. Bennett and O. L. Mangasarian: \"Robust Linear\n",
      "Programming Discrimination of Two Linearly Inseparable Sets\",\n",
      "Optimization Methods and Software 1, 1992, 23-34].\n",
      "\n",
      "This database is also available through the UW CS ftp server:\n",
      "\n",
      "ftp ftp.cs.wisc.edu\n",
      "cd math-prog/cpo-dataset/machine-learn/WDBC/\n",
      "\n",
      ".. topic:: References\n",
      "\n",
      "   - W.N. Street, W.H. Wolberg and O.L. Mangasarian. Nuclear feature extraction \n",
      "     for breast tumor diagnosis. IS&T/SPIE 1993 International Symposium on \n",
      "     Electronic Imaging: Science and Technology, volume 1905, pages 861-870,\n",
      "     San Jose, CA, 1993.\n",
      "   - O.L. Mangasarian, W.N. Street and W.H. Wolberg. Breast cancer diagnosis and \n",
      "     prognosis via linear programming. Operations Research, 43(4), pages 570-577, \n",
      "     July-August 1995.\n",
      "   - W.H. Wolberg, W.N. Street, and O.L. Mangasarian. Machine learning techniques\n",
      "     to diagnose breast cancer from fine-needle aspirates. Cancer Letters 77 (1994) \n",
      "     163-171.\n"
     ]
    }
   ],
   "source": [
    "data = load_breast_cancer()\n",
    "print(data.DESCR)"
   ]
  },
  {
   "cell_type": "code",
   "execution_count": 15,
   "metadata": {},
   "outputs": [
    {
     "data": {
      "text/plain": [
       "StandardScaler(copy=True, with_mean=True, with_std=True)"
      ]
     },
     "execution_count": 15,
     "metadata": {},
     "output_type": "execute_result"
    }
   ],
   "source": [
    "# Splitting our data and initializing a Scaler\n",
    "\n",
    "X_train, X_test, y_train, y_test = train_test_split(data.data,\n",
    "                                                    data.target,\n",
    "                                                    random_state=42)\n",
    "\n",
    "ss = StandardScaler()\n",
    "ss.fit(X_train)"
   ]
  },
  {
   "cell_type": "code",
   "execution_count": 16,
   "metadata": {
    "scrolled": true
   },
   "outputs": [
    {
     "data": {
      "text/plain": [
       "(426, 30)"
      ]
     },
     "execution_count": 16,
     "metadata": {},
     "output_type": "execute_result"
    }
   ],
   "source": [
    "# Transforming our data\n",
    "\n",
    "X_train_s = ss.transform(X_train)\n",
    "X_test_s = ss.transform(X_test)\n",
    "\n",
    "X_train_s.shape"
   ]
  },
  {
   "cell_type": "code",
   "execution_count": 17,
   "metadata": {},
   "outputs": [
    {
     "data": {
      "text/plain": [
       "array([[-0.34913849, -1.43851335, -0.41172595, -0.39047943, -1.86366229,\n",
       "        -1.26860704, -0.82617052, -0.95286585, -1.72936805, -0.9415409 ,\n",
       "        -0.86971355, -1.35865347, -0.83481506, -0.57230673, -0.74586846,\n",
       "        -0.65398319, -0.52583524, -0.94677147, -0.53781728, -0.63449458,\n",
       "        -0.54268486, -1.65565452, -0.58986401, -0.52555985, -1.51066925,\n",
       "        -0.89149994, -0.75021715, -0.91671059, -0.92508585, -0.80841115]])"
      ]
     },
     "execution_count": 17,
     "metadata": {},
     "output_type": "execute_result"
    }
   ],
   "source": [
    "X_train_s[:1, :]"
   ]
  },
  {
   "cell_type": "markdown",
   "metadata": {},
   "source": [
    "## Constructing a Neural Network in Keras"
   ]
  },
  {
   "cell_type": "code",
   "execution_count": 20,
   "metadata": {},
   "outputs": [],
   "source": [
    "# Importing model and layer types\n",
    "\n",
    "from keras.models import Sequential\n",
    "from keras.layers import Dense\n",
    "\n",
    "#Import optimizer\n",
    "\n",
    "from keras.optimizers import Adam"
   ]
  },
  {
   "cell_type": "code",
   "execution_count": 30,
   "metadata": {
    "scrolled": true
   },
   "outputs": [],
   "source": [
    "# Constructing and compiling our model\n",
    "#Create Model\n",
    "model = Sequential()\n",
    "\n",
    "#Create Input\n",
    "inputs = X_train.shape[1]\n",
    "\n",
    "\n",
    "hiddens = inputs\n",
    "\n",
    "#Add hidden nodes\n",
    "model.add(Dense(hiddens, input_dim=inputs, activation='relu'))\n",
    "model.add(Dense(1))\n",
    "adam = Adam()\n",
    "\n",
    "#Compile ** Re-Run compile statement if we are changing epochs number in next cell **\n",
    "model.compile(optimizer=adam, loss='mean_squared_error')"
   ]
  },
  {
   "cell_type": "code",
   "execution_count": 31,
   "metadata": {},
   "outputs": [
    {
     "name": "stdout",
     "output_type": "stream",
     "text": [
      "Train on 426 samples, validate on 143 samples\n",
      "Epoch 1/99\n",
      "426/426 [==============================] - 0s 567us/step - loss: 1.8395 - val_loss: 1.1748\n",
      "Epoch 2/99\n",
      "426/426 [==============================] - 0s 48us/step - loss: 0.9343 - val_loss: 0.6084\n",
      "Epoch 3/99\n",
      "426/426 [==============================] - 0s 54us/step - loss: 0.4668 - val_loss: 0.3390\n",
      "Epoch 4/99\n",
      "426/426 [==============================] - 0s 59us/step - loss: 0.2823 - val_loss: 0.2277\n",
      "Epoch 5/99\n",
      "426/426 [==============================] - 0s 60us/step - loss: 0.2189 - val_loss: 0.1819\n",
      "Epoch 6/99\n",
      "426/426 [==============================] - 0s 47us/step - loss: 0.1867 - val_loss: 0.1590\n",
      "Epoch 7/99\n",
      "426/426 [==============================] - 0s 53us/step - loss: 0.1660 - val_loss: 0.1476\n",
      "Epoch 8/99\n",
      "426/426 [==============================] - 0s 57us/step - loss: 0.1462 - val_loss: 0.1314\n",
      "Epoch 9/99\n",
      "426/426 [==============================] - 0s 64us/step - loss: 0.1345 - val_loss: 0.1264\n",
      "Epoch 10/99\n",
      "426/426 [==============================] - 0s 68us/step - loss: 0.1225 - val_loss: 0.1161\n",
      "Epoch 11/99\n",
      "426/426 [==============================] - 0s 56us/step - loss: 0.1128 - val_loss: 0.1115\n",
      "Epoch 12/99\n",
      "426/426 [==============================] - 0s 58us/step - loss: 0.1033 - val_loss: 0.1103\n",
      "Epoch 13/99\n",
      "426/426 [==============================] - 0s 56us/step - loss: 0.0968 - val_loss: 0.1033\n",
      "Epoch 14/99\n",
      "426/426 [==============================] - 0s 59us/step - loss: 0.0904 - val_loss: 0.1009\n",
      "Epoch 15/99\n",
      "426/426 [==============================] - 0s 56us/step - loss: 0.0849 - val_loss: 0.0997\n",
      "Epoch 16/99\n",
      "426/426 [==============================] - 0s 57us/step - loss: 0.0804 - val_loss: 0.0967\n",
      "Epoch 17/99\n",
      "426/426 [==============================] - 0s 57us/step - loss: 0.0765 - val_loss: 0.0925\n",
      "Epoch 18/99\n",
      "426/426 [==============================] - 0s 63us/step - loss: 0.0729 - val_loss: 0.0939\n",
      "Epoch 19/99\n",
      "426/426 [==============================] - 0s 56us/step - loss: 0.0694 - val_loss: 0.0907\n",
      "Epoch 20/99\n",
      "426/426 [==============================] - 0s 53us/step - loss: 0.0667 - val_loss: 0.0883\n",
      "Epoch 21/99\n",
      "426/426 [==============================] - 0s 52us/step - loss: 0.0643 - val_loss: 0.0882\n",
      "Epoch 22/99\n",
      "426/426 [==============================] - 0s 59us/step - loss: 0.0622 - val_loss: 0.0862\n",
      "Epoch 23/99\n",
      "426/426 [==============================] - 0s 57us/step - loss: 0.0601 - val_loss: 0.0851\n",
      "Epoch 24/99\n",
      "426/426 [==============================] - 0s 55us/step - loss: 0.0583 - val_loss: 0.0829\n",
      "Epoch 25/99\n",
      "426/426 [==============================] - 0s 53us/step - loss: 0.0565 - val_loss: 0.0823\n",
      "Epoch 26/99\n",
      "426/426 [==============================] - 0s 64us/step - loss: 0.0560 - val_loss: 0.0816\n",
      "Epoch 27/99\n",
      "426/426 [==============================] - 0s 109us/step - loss: 0.0540 - val_loss: 0.0799\n",
      "Epoch 28/99\n",
      "426/426 [==============================] - 0s 64us/step - loss: 0.0530 - val_loss: 0.0791\n",
      "Epoch 29/99\n",
      "426/426 [==============================] - 0s 47us/step - loss: 0.0520 - val_loss: 0.0811\n",
      "Epoch 30/99\n",
      "426/426 [==============================] - 0s 66us/step - loss: 0.0509 - val_loss: 0.0771\n",
      "Epoch 31/99\n",
      "426/426 [==============================] - 0s 76us/step - loss: 0.0497 - val_loss: 0.0766\n",
      "Epoch 32/99\n",
      "426/426 [==============================] - 0s 58us/step - loss: 0.0486 - val_loss: 0.0759\n",
      "Epoch 33/99\n",
      "426/426 [==============================] - 0s 70us/step - loss: 0.0479 - val_loss: 0.0743\n",
      "Epoch 34/99\n",
      "426/426 [==============================] - 0s 84us/step - loss: 0.0471 - val_loss: 0.0731\n",
      "Epoch 35/99\n",
      "426/426 [==============================] - 0s 68us/step - loss: 0.0461 - val_loss: 0.0725\n",
      "Epoch 36/99\n",
      "426/426 [==============================] - 0s 55us/step - loss: 0.0453 - val_loss: 0.0715\n",
      "Epoch 37/99\n",
      "426/426 [==============================] - 0s 63us/step - loss: 0.0447 - val_loss: 0.0726\n",
      "Epoch 38/99\n",
      "426/426 [==============================] - 0s 58us/step - loss: 0.0442 - val_loss: 0.0708\n",
      "Epoch 39/99\n",
      "426/426 [==============================] - 0s 40us/step - loss: 0.0434 - val_loss: 0.0716\n",
      "Epoch 40/99\n",
      "426/426 [==============================] - 0s 48us/step - loss: 0.0427 - val_loss: 0.0698\n",
      "Epoch 41/99\n",
      "426/426 [==============================] - 0s 52us/step - loss: 0.0418 - val_loss: 0.0687\n",
      "Epoch 42/99\n",
      "426/426 [==============================] - 0s 57us/step - loss: 0.0414 - val_loss: 0.0686\n",
      "Epoch 43/99\n",
      "426/426 [==============================] - 0s 54us/step - loss: 0.0407 - val_loss: 0.0679\n",
      "Epoch 44/99\n",
      "426/426 [==============================] - 0s 56us/step - loss: 0.0402 - val_loss: 0.0678\n",
      "Epoch 45/99\n",
      "426/426 [==============================] - 0s 44us/step - loss: 0.0395 - val_loss: 0.0675\n",
      "Epoch 46/99\n",
      "426/426 [==============================] - 0s 48us/step - loss: 0.0392 - val_loss: 0.0680\n",
      "Epoch 47/99\n",
      "426/426 [==============================] - 0s 54us/step - loss: 0.0382 - val_loss: 0.0668\n",
      "Epoch 48/99\n",
      "426/426 [==============================] - 0s 40us/step - loss: 0.0377 - val_loss: 0.0674\n",
      "Epoch 49/99\n",
      "426/426 [==============================] - 0s 52us/step - loss: 0.0373 - val_loss: 0.0656\n",
      "Epoch 50/99\n",
      "426/426 [==============================] - 0s 51us/step - loss: 0.0367 - val_loss: 0.0661\n",
      "Epoch 51/99\n",
      "426/426 [==============================] - 0s 42us/step - loss: 0.0363 - val_loss: 0.0657\n",
      "Epoch 52/99\n",
      "426/426 [==============================] - 0s 56us/step - loss: 0.0356 - val_loss: 0.0652\n",
      "Epoch 53/99\n",
      "426/426 [==============================] - 0s 48us/step - loss: 0.0350 - val_loss: 0.0652\n",
      "Epoch 54/99\n",
      "426/426 [==============================] - 0s 44us/step - loss: 0.0344 - val_loss: 0.0656\n",
      "Epoch 55/99\n",
      "426/426 [==============================] - 0s 57us/step - loss: 0.0340 - val_loss: 0.0638\n",
      "Epoch 56/99\n",
      "426/426 [==============================] - 0s 48us/step - loss: 0.0336 - val_loss: 0.0639\n",
      "Epoch 57/99\n",
      "426/426 [==============================] - 0s 48us/step - loss: 0.0334 - val_loss: 0.0643\n",
      "Epoch 58/99\n",
      "426/426 [==============================] - 0s 43us/step - loss: 0.0329 - val_loss: 0.0637\n",
      "Epoch 59/99\n",
      "426/426 [==============================] - 0s 49us/step - loss: 0.0325 - val_loss: 0.0628\n",
      "Epoch 60/99\n",
      "426/426 [==============================] - 0s 44us/step - loss: 0.0322 - val_loss: 0.0637\n",
      "Epoch 61/99\n",
      "426/426 [==============================] - 0s 51us/step - loss: 0.0317 - val_loss: 0.0641\n",
      "Epoch 62/99\n",
      "426/426 [==============================] - 0s 44us/step - loss: 0.0315 - val_loss: 0.0615\n",
      "Epoch 63/99\n",
      "426/426 [==============================] - 0s 36us/step - loss: 0.0314 - val_loss: 0.0636\n",
      "Epoch 64/99\n",
      "426/426 [==============================] - 0s 41us/step - loss: 0.0308 - val_loss: 0.0612\n",
      "Epoch 65/99\n",
      "426/426 [==============================] - 0s 41us/step - loss: 0.0303 - val_loss: 0.0619\n",
      "Epoch 66/99\n",
      "426/426 [==============================] - 0s 37us/step - loss: 0.0299 - val_loss: 0.0607\n",
      "Epoch 67/99\n",
      "426/426 [==============================] - 0s 40us/step - loss: 0.0295 - val_loss: 0.0613\n",
      "Epoch 68/99\n",
      "426/426 [==============================] - 0s 44us/step - loss: 0.0291 - val_loss: 0.0610\n",
      "Epoch 69/99\n",
      "426/426 [==============================] - 0s 47us/step - loss: 0.0289 - val_loss: 0.0608\n",
      "Epoch 70/99\n",
      "426/426 [==============================] - 0s 46us/step - loss: 0.0284 - val_loss: 0.0608\n",
      "Epoch 71/99\n",
      "426/426 [==============================] - 0s 47us/step - loss: 0.0280 - val_loss: 0.0599\n",
      "Epoch 72/99\n",
      "426/426 [==============================] - 0s 45us/step - loss: 0.0277 - val_loss: 0.0607\n",
      "Epoch 73/99\n",
      "426/426 [==============================] - 0s 43us/step - loss: 0.0278 - val_loss: 0.0588\n",
      "Epoch 74/99\n",
      "426/426 [==============================] - 0s 41us/step - loss: 0.0271 - val_loss: 0.0600\n",
      "Epoch 75/99\n",
      "426/426 [==============================] - 0s 41us/step - loss: 0.0271 - val_loss: 0.0601\n",
      "Epoch 76/99\n",
      "426/426 [==============================] - 0s 43us/step - loss: 0.0264 - val_loss: 0.0585\n",
      "Epoch 77/99\n",
      "426/426 [==============================] - 0s 47us/step - loss: 0.0261 - val_loss: 0.0606\n",
      "Epoch 78/99\n",
      "426/426 [==============================] - 0s 41us/step - loss: 0.0260 - val_loss: 0.0578\n",
      "Epoch 79/99\n",
      "426/426 [==============================] - 0s 47us/step - loss: 0.0256 - val_loss: 0.0580\n",
      "Epoch 80/99\n",
      "426/426 [==============================] - 0s 47us/step - loss: 0.0253 - val_loss: 0.0585\n"
     ]
    },
    {
     "name": "stdout",
     "output_type": "stream",
     "text": [
      "Epoch 81/99\n",
      "426/426 [==============================] - 0s 47us/step - loss: 0.0251 - val_loss: 0.0579\n",
      "Epoch 82/99\n",
      "426/426 [==============================] - 0s 41us/step - loss: 0.0248 - val_loss: 0.0581\n",
      "Epoch 83/99\n",
      "426/426 [==============================] - 0s 53us/step - loss: 0.0246 - val_loss: 0.0573\n",
      "Epoch 84/99\n",
      "426/426 [==============================] - 0s 49us/step - loss: 0.0243 - val_loss: 0.0572\n",
      "Epoch 85/99\n",
      "426/426 [==============================] - 0s 44us/step - loss: 0.0241 - val_loss: 0.0582\n",
      "Epoch 86/99\n",
      "426/426 [==============================] - 0s 44us/step - loss: 0.0239 - val_loss: 0.0564\n",
      "Epoch 87/99\n",
      "426/426 [==============================] - 0s 43us/step - loss: 0.0233 - val_loss: 0.0565\n",
      "Epoch 88/99\n",
      "426/426 [==============================] - 0s 45us/step - loss: 0.0231 - val_loss: 0.0566\n",
      "Epoch 89/99\n",
      "426/426 [==============================] - 0s 45us/step - loss: 0.0227 - val_loss: 0.0555\n",
      "Epoch 90/99\n",
      "426/426 [==============================] - 0s 43us/step - loss: 0.0225 - val_loss: 0.0560\n",
      "Epoch 91/99\n",
      "426/426 [==============================] - 0s 49us/step - loss: 0.0223 - val_loss: 0.0556\n",
      "Epoch 92/99\n",
      "426/426 [==============================] - 0s 43us/step - loss: 0.0222 - val_loss: 0.0564\n",
      "Epoch 93/99\n",
      "426/426 [==============================] - 0s 43us/step - loss: 0.0219 - val_loss: 0.0543\n",
      "Epoch 94/99\n",
      "426/426 [==============================] - 0s 44us/step - loss: 0.0215 - val_loss: 0.0550\n",
      "Epoch 95/99\n",
      "426/426 [==============================] - 0s 44us/step - loss: 0.0213 - val_loss: 0.0551\n",
      "Epoch 96/99\n",
      "426/426 [==============================] - 0s 39us/step - loss: 0.0212 - val_loss: 0.0560\n",
      "Epoch 97/99\n",
      "426/426 [==============================] - 0s 40us/step - loss: 0.0209 - val_loss: 0.0541\n",
      "Epoch 98/99\n",
      "426/426 [==============================] - 0s 42us/step - loss: 0.0209 - val_loss: 0.0564\n",
      "Epoch 99/99\n",
      "426/426 [==============================] - 0s 42us/step - loss: 0.0205 - val_loss: 0.0545\n"
     ]
    },
    {
     "data": {
      "text/plain": [
       "<keras.callbacks.History at 0x1a299c9320>"
      ]
     },
     "execution_count": 31,
     "metadata": {},
     "output_type": "execute_result"
    }
   ],
   "source": [
    "# Fitting our model\n",
    "\n",
    "model.fit(X_train_s, y_train, validation_data=(X_test_s, y_test), epochs=99)\n"
   ]
  },
  {
   "cell_type": "code",
   "execution_count": 32,
   "metadata": {},
   "outputs": [
    {
     "name": "stdout",
     "output_type": "stream",
     "text": [
      "Train on 426 samples, validate on 143 samples\n",
      "Epoch 1/99\n",
      "426/426 [==============================] - 0s 65us/step - loss: 0.0204 - val_loss: 0.0553\n",
      "Epoch 2/99\n",
      "426/426 [==============================] - 0s 56us/step - loss: 0.0201 - val_loss: 0.0539\n",
      "Epoch 3/99\n",
      "426/426 [==============================] - 0s 55us/step - loss: 0.0199 - val_loss: 0.0547\n",
      "Epoch 4/99\n",
      "426/426 [==============================] - 0s 50us/step - loss: 0.0197 - val_loss: 0.0548\n",
      "Epoch 5/99\n",
      "426/426 [==============================] - 0s 49us/step - loss: 0.0195 - val_loss: 0.0520\n",
      "Epoch 6/99\n",
      "426/426 [==============================] - 0s 49us/step - loss: 0.0198 - val_loss: 0.0539\n",
      "Epoch 7/99\n",
      "426/426 [==============================] - 0s 68us/step - loss: 0.0192 - val_loss: 0.0530\n",
      "Epoch 8/99\n",
      "426/426 [==============================] - 0s 60us/step - loss: 0.0190 - val_loss: 0.0547\n",
      "Epoch 9/99\n",
      "426/426 [==============================] - 0s 67us/step - loss: 0.0187 - val_loss: 0.0531\n",
      "Epoch 10/99\n",
      "426/426 [==============================] - 0s 55us/step - loss: 0.0189 - val_loss: 0.0535\n",
      "Epoch 11/99\n",
      "426/426 [==============================] - 0s 67us/step - loss: 0.0183 - val_loss: 0.0534\n",
      "Epoch 12/99\n",
      "426/426 [==============================] - 0s 58us/step - loss: 0.0183 - val_loss: 0.0524\n",
      "Epoch 13/99\n",
      "426/426 [==============================] - 0s 56us/step - loss: 0.0182 - val_loss: 0.0537\n",
      "Epoch 14/99\n",
      "426/426 [==============================] - 0s 54us/step - loss: 0.0183 - val_loss: 0.0549\n",
      "Epoch 15/99\n",
      "426/426 [==============================] - 0s 56us/step - loss: 0.0179 - val_loss: 0.0534\n",
      "Epoch 16/99\n",
      "426/426 [==============================] - 0s 59us/step - loss: 0.0175 - val_loss: 0.0525\n",
      "Epoch 17/99\n",
      "426/426 [==============================] - 0s 76us/step - loss: 0.0177 - val_loss: 0.0544\n",
      "Epoch 18/99\n",
      "426/426 [==============================] - 0s 53us/step - loss: 0.0178 - val_loss: 0.0514\n",
      "Epoch 19/99\n",
      "426/426 [==============================] - 0s 61us/step - loss: 0.0175 - val_loss: 0.0521\n",
      "Epoch 20/99\n",
      "426/426 [==============================] - 0s 46us/step - loss: 0.0169 - val_loss: 0.0519\n",
      "Epoch 21/99\n",
      "426/426 [==============================] - 0s 58us/step - loss: 0.0168 - val_loss: 0.0537\n",
      "Epoch 22/99\n",
      "426/426 [==============================] - 0s 68us/step - loss: 0.0170 - val_loss: 0.0519\n",
      "Epoch 23/99\n",
      "426/426 [==============================] - 0s 60us/step - loss: 0.0176 - val_loss: 0.0523\n",
      "Epoch 24/99\n",
      "426/426 [==============================] - 0s 56us/step - loss: 0.0165 - val_loss: 0.0524\n",
      "Epoch 25/99\n",
      "426/426 [==============================] - 0s 54us/step - loss: 0.0165 - val_loss: 0.0532\n",
      "Epoch 26/99\n",
      "426/426 [==============================] - 0s 50us/step - loss: 0.0163 - val_loss: 0.0509\n",
      "Epoch 27/99\n",
      "426/426 [==============================] - 0s 52us/step - loss: 0.0161 - val_loss: 0.0524\n",
      "Epoch 28/99\n",
      "426/426 [==============================] - 0s 54us/step - loss: 0.0160 - val_loss: 0.0519\n",
      "Epoch 29/99\n",
      "426/426 [==============================] - 0s 49us/step - loss: 0.0159 - val_loss: 0.0510\n",
      "Epoch 30/99\n",
      "426/426 [==============================] - 0s 52us/step - loss: 0.0158 - val_loss: 0.0503\n",
      "Epoch 31/99\n",
      "426/426 [==============================] - 0s 38us/step - loss: 0.0157 - val_loss: 0.0528\n",
      "Epoch 32/99\n",
      "426/426 [==============================] - 0s 54us/step - loss: 0.0154 - val_loss: 0.0516\n",
      "Epoch 33/99\n",
      "426/426 [==============================] - 0s 50us/step - loss: 0.0154 - val_loss: 0.0517\n",
      "Epoch 34/99\n",
      "426/426 [==============================] - 0s 41us/step - loss: 0.0157 - val_loss: 0.0503\n",
      "Epoch 35/99\n",
      "426/426 [==============================] - 0s 57us/step - loss: 0.0153 - val_loss: 0.0511\n",
      "Epoch 36/99\n",
      "426/426 [==============================] - 0s 55us/step - loss: 0.0152 - val_loss: 0.0509\n",
      "Epoch 37/99\n",
      "426/426 [==============================] - 0s 42us/step - loss: 0.0147 - val_loss: 0.0505\n",
      "Epoch 38/99\n",
      "426/426 [==============================] - 0s 53us/step - loss: 0.0147 - val_loss: 0.0519\n",
      "Epoch 39/99\n",
      "426/426 [==============================] - 0s 47us/step - loss: 0.0148 - val_loss: 0.0501\n",
      "Epoch 40/99\n",
      "426/426 [==============================] - 0s 48us/step - loss: 0.0144 - val_loss: 0.0503\n",
      "Epoch 41/99\n",
      "426/426 [==============================] - 0s 56us/step - loss: 0.0145 - val_loss: 0.0501\n",
      "Epoch 42/99\n",
      "426/426 [==============================] - 0s 85us/step - loss: 0.0147 - val_loss: 0.0487\n",
      "Epoch 43/99\n",
      "426/426 [==============================] - 0s 54us/step - loss: 0.0146 - val_loss: 0.0514\n",
      "Epoch 44/99\n",
      "426/426 [==============================] - 0s 71us/step - loss: 0.0141 - val_loss: 0.0491\n",
      "Epoch 45/99\n",
      "426/426 [==============================] - 0s 63us/step - loss: 0.0144 - val_loss: 0.0494\n",
      "Epoch 46/99\n",
      "426/426 [==============================] - 0s 57us/step - loss: 0.0140 - val_loss: 0.0501\n",
      "Epoch 47/99\n",
      "426/426 [==============================] - 0s 65us/step - loss: 0.0137 - val_loss: 0.0494\n",
      "Epoch 48/99\n",
      "426/426 [==============================] - 0s 51us/step - loss: 0.0136 - val_loss: 0.0510\n",
      "Epoch 49/99\n",
      "426/426 [==============================] - 0s 61us/step - loss: 0.0136 - val_loss: 0.0509\n",
      "Epoch 50/99\n",
      "426/426 [==============================] - 0s 47us/step - loss: 0.0137 - val_loss: 0.0512\n",
      "Epoch 51/99\n",
      "426/426 [==============================] - 0s 56us/step - loss: 0.0136 - val_loss: 0.0485\n",
      "Epoch 52/99\n",
      "426/426 [==============================] - 0s 57us/step - loss: 0.0136 - val_loss: 0.0502\n",
      "Epoch 53/99\n",
      "426/426 [==============================] - 0s 41us/step - loss: 0.0137 - val_loss: 0.0476\n",
      "Epoch 54/99\n",
      "426/426 [==============================] - 0s 54us/step - loss: 0.0137 - val_loss: 0.0520\n",
      "Epoch 55/99\n",
      "426/426 [==============================] - 0s 44us/step - loss: 0.0131 - val_loss: 0.0504\n",
      "Epoch 56/99\n",
      "426/426 [==============================] - 0s 44us/step - loss: 0.0131 - val_loss: 0.0505\n",
      "Epoch 57/99\n",
      "426/426 [==============================] - 0s 60us/step - loss: 0.0128 - val_loss: 0.0504\n",
      "Epoch 58/99\n",
      "426/426 [==============================] - 0s 41us/step - loss: 0.0127 - val_loss: 0.0498\n",
      "Epoch 59/99\n",
      "426/426 [==============================] - 0s 46us/step - loss: 0.0126 - val_loss: 0.0504\n",
      "Epoch 60/99\n",
      "426/426 [==============================] - 0s 42us/step - loss: 0.0126 - val_loss: 0.0507\n",
      "Epoch 61/99\n",
      "426/426 [==============================] - 0s 52us/step - loss: 0.0124 - val_loss: 0.0491\n",
      "Epoch 62/99\n",
      "426/426 [==============================] - 0s 40us/step - loss: 0.0124 - val_loss: 0.0505\n",
      "Epoch 63/99\n",
      "426/426 [==============================] - 0s 36us/step - loss: 0.0121 - val_loss: 0.0510\n",
      "Epoch 64/99\n",
      "426/426 [==============================] - 0s 41us/step - loss: 0.0125 - val_loss: 0.0512\n",
      "Epoch 65/99\n",
      "426/426 [==============================] - 0s 36us/step - loss: 0.0123 - val_loss: 0.0497\n",
      "Epoch 66/99\n",
      "426/426 [==============================] - 0s 39us/step - loss: 0.0122 - val_loss: 0.0494\n",
      "Epoch 67/99\n",
      "426/426 [==============================] - 0s 41us/step - loss: 0.0122 - val_loss: 0.0481\n",
      "Epoch 68/99\n",
      "426/426 [==============================] - 0s 44us/step - loss: 0.0121 - val_loss: 0.0515\n",
      "Epoch 69/99\n",
      "426/426 [==============================] - 0s 40us/step - loss: 0.0122 - val_loss: 0.0478\n",
      "Epoch 70/99\n",
      "426/426 [==============================] - 0s 39us/step - loss: 0.0117 - val_loss: 0.0491\n",
      "Epoch 71/99\n",
      "426/426 [==============================] - 0s 37us/step - loss: 0.0116 - val_loss: 0.0504\n",
      "Epoch 72/99\n",
      "426/426 [==============================] - 0s 47us/step - loss: 0.0117 - val_loss: 0.0500\n",
      "Epoch 73/99\n",
      "426/426 [==============================] - 0s 45us/step - loss: 0.0120 - val_loss: 0.0494\n",
      "Epoch 74/99\n",
      "426/426 [==============================] - 0s 46us/step - loss: 0.0116 - val_loss: 0.0488\n",
      "Epoch 75/99\n",
      "426/426 [==============================] - 0s 45us/step - loss: 0.0116 - val_loss: 0.0489\n",
      "Epoch 76/99\n",
      "426/426 [==============================] - 0s 45us/step - loss: 0.0113 - val_loss: 0.0488\n",
      "Epoch 77/99\n",
      "426/426 [==============================] - 0s 42us/step - loss: 0.0110 - val_loss: 0.0479\n",
      "Epoch 78/99\n",
      "426/426 [==============================] - 0s 46us/step - loss: 0.0110 - val_loss: 0.0494\n",
      "Epoch 79/99\n",
      "426/426 [==============================] - 0s 43us/step - loss: 0.0110 - val_loss: 0.0493\n",
      "Epoch 80/99\n",
      "426/426 [==============================] - 0s 46us/step - loss: 0.0109 - val_loss: 0.0484\n"
     ]
    },
    {
     "name": "stdout",
     "output_type": "stream",
     "text": [
      "Epoch 81/99\n",
      "426/426 [==============================] - 0s 52us/step - loss: 0.0107 - val_loss: 0.0497\n",
      "Epoch 82/99\n",
      "426/426 [==============================] - 0s 62us/step - loss: 0.0107 - val_loss: 0.0486\n",
      "Epoch 83/99\n",
      "426/426 [==============================] - 0s 65us/step - loss: 0.0110 - val_loss: 0.0487\n",
      "Epoch 84/99\n",
      "426/426 [==============================] - 0s 47us/step - loss: 0.0110 - val_loss: 0.0485\n",
      "Epoch 85/99\n",
      "426/426 [==============================] - 0s 55us/step - loss: 0.0121 - val_loss: 0.0518\n",
      "Epoch 86/99\n",
      "426/426 [==============================] - 0s 53us/step - loss: 0.0109 - val_loss: 0.0500\n",
      "Epoch 87/99\n",
      "426/426 [==============================] - 0s 46us/step - loss: 0.0111 - val_loss: 0.0498\n",
      "Epoch 88/99\n",
      "426/426 [==============================] - 0s 54us/step - loss: 0.0105 - val_loss: 0.0495\n",
      "Epoch 89/99\n",
      "426/426 [==============================] - 0s 50us/step - loss: 0.0105 - val_loss: 0.0491\n",
      "Epoch 90/99\n",
      "426/426 [==============================] - 0s 47us/step - loss: 0.0103 - val_loss: 0.0495\n",
      "Epoch 91/99\n",
      "426/426 [==============================] - 0s 49us/step - loss: 0.0102 - val_loss: 0.0503\n",
      "Epoch 92/99\n",
      "426/426 [==============================] - 0s 48us/step - loss: 0.0102 - val_loss: 0.0486\n",
      "Epoch 93/99\n",
      "426/426 [==============================] - 0s 53us/step - loss: 0.0100 - val_loss: 0.0490\n",
      "Epoch 94/99\n",
      "426/426 [==============================] - 0s 48us/step - loss: 0.0101 - val_loss: 0.0505\n",
      "Epoch 95/99\n",
      "426/426 [==============================] - 0s 51us/step - loss: 0.0099 - val_loss: 0.0483\n",
      "Epoch 96/99\n",
      "426/426 [==============================] - 0s 53us/step - loss: 0.0098 - val_loss: 0.0499\n",
      "Epoch 97/99\n",
      "426/426 [==============================] - 0s 51us/step - loss: 0.0098 - val_loss: 0.0505\n",
      "Epoch 98/99\n",
      "426/426 [==============================] - 0s 59us/step - loss: 0.0097 - val_loss: 0.0488\n",
      "Epoch 99/99\n",
      "426/426 [==============================] - 0s 48us/step - loss: 0.0093 - val_loss: 0.0490\n"
     ]
    }
   ],
   "source": [
    "# Storing that fit as a history log\n",
    "\n",
    "history_log = model.fit(X_train_s, y_train, validation_data=(X_test_s, y_test), epochs=99)"
   ]
  },
  {
   "cell_type": "code",
   "execution_count": 34,
   "metadata": {},
   "outputs": [
    {
     "data": {
      "image/png": "[encoded data removed]",
      "text/plain": [
       "<Figure size 432x288 with 1 Axes>"
      ]
     },
     "metadata": {
      "needs_background": "light"
     },
     "output_type": "display_data"
    }
   ],
   "source": [
    "# Plotting our losses\n",
    "\n",
    "train_loss = history_log.history['loss']\n",
    "test_loss = history_log.history['val_loss']\n",
    "\n",
    "plt.plot(train_loss, label='Training Loss')\n",
    "plt.plot(test_loss, label='Test Loss')\n",
    "plt.legend();"
   ]
  },
  {
   "cell_type": "markdown",
   "metadata": {},
   "source": [
    "## Tensorflow"
   ]
  },
  {
   "cell_type": "code",
   "execution_count": 35,
   "metadata": {},
   "outputs": [],
   "source": [
    "import tensorflow as tf"
   ]
  },
  {
   "cell_type": "markdown",
   "metadata": {},
   "source": [
    "### Tensorflow as a graph constructor"
   ]
  },
  {
   "cell_type": "code",
   "execution_count": 40,
   "metadata": {},
   "outputs": [],
   "source": [
    "# Constructing the graph\n",
    "\n",
    "a = tf.Variable(4)\n",
    "b = tf.Variable(5)\n",
    "\n",
    "c = a + b\n",
    "d = a + c * b"
   ]
  },
  {
   "cell_type": "code",
   "execution_count": 41,
   "metadata": {},
   "outputs": [],
   "source": [
    "# Starting a session\n",
    "\n",
    "init = tf.global_variables_initializer()\n",
    "\n",
    "with tf.Session() as sess:\n",
    "    init.run()\n",
    "    result = sess.run(d)"
   ]
  },
  {
   "cell_type": "code",
   "execution_count": 42,
   "metadata": {},
   "outputs": [
    {
     "name": "stdout",
     "output_type": "stream",
     "text": [
      "49\n"
     ]
    }
   ],
   "source": [
    "# Printing the output\n",
    "\n",
    "print(result)"
   ]
  },
  {
   "cell_type": "markdown",
   "metadata": {},
   "source": [
    "### Neural Network"
   ]
  },
  {
   "cell_type": "code",
   "execution_count": 43,
   "metadata": {},
   "outputs": [
    {
     "data": {
      "text/plain": [
       "(426, 30)"
      ]
     },
     "execution_count": 43,
     "metadata": {},
     "output_type": "execute_result"
    }
   ],
   "source": [
    "X_train_s.shape"
   ]
  },
  {
   "cell_type": "code",
   "execution_count": 44,
   "metadata": {},
   "outputs": [
    {
     "name": "stdout",
     "output_type": "stream",
     "text": [
      "WARNING:tensorflow:From <ipython-input-44-d26d6f2c7d0c>:6: dense (from tensorflow.python.layers.core) is deprecated and will be removed in a future version.\n",
      "Instructions for updating:\n",
      "Use keras.layers.dense instead.\n",
      "WARNING:tensorflow:From /anaconda3/lib/python3.7/site-packages/tensorflow/python/ops/losses/losses_impl.py:514: to_float (from tensorflow.python.ops.math_ops) is deprecated and will be removed in a future version.\n",
      "Instructions for updating:\n",
      "Use tf.cast instead.\n"
     ]
    }
   ],
   "source": [
    "tf.reset_default_graph()\n",
    "\n",
    "X = tf.placeholder(dtype=tf.float32, shape=(None, 30))\n",
    "y = tf.placeholder(dtype=tf.float32, shape=(None, 1))\n",
    "\n",
    "hid = tf.layers.dense(X, 30, activation=tf.nn.relu)\n",
    "y_hat = tf.layers.dense(hid, 1, activation=tf.nn.sigmoid)\n",
    "\n",
    "loss = tf.losses.log_loss(y, y_hat)\n",
    "optimizer = tf.train.AdamOptimizer(0.01)\n",
    "training_run = optimizer.minimize(loss)\n",
    "\n",
    "saver = tf.train.Saver()"
   ]
  },
  {
   "cell_type": "code",
   "execution_count": 45,
   "metadata": {},
   "outputs": [
    {
     "data": {
      "text/plain": [
       "0.986013986013986"
      ]
     },
     "execution_count": 45,
     "metadata": {},
     "output_type": "execute_result"
    }
   ],
   "source": [
    "init = tf.global_variables_initializer()\n",
    "\n",
    "with tf.Session() as sess:\n",
    "    init.run()\n",
    "    \n",
    "    for _ in range(100):\n",
    "        sess.run(training_run, feed_dict={X: X_train_s,\n",
    "                                          y: y_train.reshape(-1, 1)})\n",
    "        \n",
    "    pred = sess.run(y_hat, feed_dict={X: X_test_s})\n",
    "\n",
    "classes = (pred > 0.5).astype(int)\n",
    "\n",
    "metrics.accuracy_score(y_test.reshape(-1, 1), classes)"
   ]
  },
  {
   "cell_type": "code",
   "execution_count": null,
   "metadata": {},
   "outputs": [],
   "source": []
  }
 ],
 "metadata": {
  "kernelspec": {
   "display_name": "Python 3",
   "language": "python",
   "name": "python3"
  },
  "language_info": {
   "codemirror_mode": {
    "name": "ipython",
    "version": 3
   },
   "file_extension": ".py",
   "mimetype": "text/x-python",
   "name": "python",
   "nbconvert_exporter": "python",
   "pygments_lexer": "ipython3",
   "version": "3.7.1"
  }
 },
 "nbformat": 4,
 "nbformat_minor": 2
}
